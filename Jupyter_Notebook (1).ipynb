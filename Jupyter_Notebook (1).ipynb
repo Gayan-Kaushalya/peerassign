{
  "metadata": {
    "kernelspec": {
      "name": "python",
      "display_name": "Pyolite",
      "language": "python"
    },
    "language_info": {
      "codemirror_mode": {
        "name": "python",
        "version": 3
      },
      "file_extension": ".py",
      "mimetype": "text/x-python",
      "name": "python",
      "nbconvert_exporter": "python",
      "pygments_lexer": "ipython3",
      "version": "3.8"
    }
  },
  "nbformat_minor": 4,
  "nbformat": 4,
  "cells": [
    {
      "cell_type": "markdown",
      "source": "# <center> My Jupyter Notebook on IBM Watson Studio</center>\n",
      "metadata": {}
    },
    {
      "cell_type": "markdown",
      "source": "**Gayan Kaushalya Kumarasekara** <br>\nData Scientist",
      "metadata": {}
    },
    {
      "cell_type": "markdown",
      "source": "_I am interested in data science because I love to find patterns and solve problems._ ",
      "metadata": {}
    },
    {
      "cell_type": "markdown",
      "source": "### This code will output the nth power of a given number when n is given. ",
      "metadata": {}
    },
    {
      "cell_type": "code",
      "source": "def exp(x,n):\n    if n==0:\n        return 1\n    else:\n        return x*exp(x,n-1)\nprint(exp(9,4))",
      "metadata": {
        "trusted": true
      },
      "execution_count": 6,
      "outputs": [
        {
          "name": "stdout",
          "text": "6561\n",
          "output_type": "stream"
        }
      ]
    },
    {
      "cell_type": "markdown",
      "source": "<center>\n    <img src=\"https://s3-api.us-geo.objectstorage.softlayer.net/cf-courses-data/CognitiveClass/Logos/organization_logo/organization_logo.png\" width=\"300\" alt=\"cognitiveclass.ai logo\"  />\n</center>\n\n<a href=\"https://ibm.com\">IBM</a>\n\n1. One\n2. Two\n3. Three",
      "metadata": {}
    }
  ]
}